{
 "cells": [
  {
   "cell_type": "code",
   "execution_count": 2,
   "metadata": {},
   "outputs": [],
   "source": [
    "# Import the modules\n",
    "import cv2\n",
    "from sklearn.externals import joblib\n",
    "from skimage.feature import hog\n",
    "import numpy as np\n"
   ]
  },
  {
   "cell_type": "code",
   "execution_count": 3,
   "metadata": {},
   "outputs": [],
   "source": [
    "# Load the classifier\n",
    "clf, pp = joblib.load(\"digits_cls1.pkl\")"
   ]
  },
  {
   "cell_type": "code",
   "execution_count": 6,
   "metadata": {},
   "outputs": [],
   "source": [
    "def main():  \n",
    "    # Open Camera\n",
    "    cap = cv2.VideoCapture(0)\n",
    "\n",
    "    while (cap.isOpened()):\n",
    "        # Capture frames from the camera\n",
    "        ret, img = cap.read()\n",
    "        # Apply get_img_contour_thresh function on frame\n",
    "        img, contours, thresh = get_img_contour_thresh(img)\n",
    "        \n",
    "        ans = ''\n",
    "        \n",
    "        if len(contours) > 0:\n",
    "            for ctr in contours:\n",
    "                # Ranging contourArea\n",
    "                if cv2.contourArea(ctr) > 1500 and cv2.contourArea(ctr)<5000 :\n",
    "                    # Get rectangles contains each contour i.e. digit\n",
    "                    rect = cv2.boundingRect(ctr)\n",
    "                    # Dimensions of rectangle\n",
    "                    x, y, w, h = rect\n",
    "                \n",
    "                    # Making new image containing coutour for classification\n",
    "                    newImage = thresh[y:y + h, x:x + w]\n",
    "                    # Resize the image\n",
    "                    newImage = cv2.resize(newImage, (28, 28))\n",
    "                    # Calculate the HOG features\n",
    "                    newImage = np.array(newImage)\n",
    "                    hog_ft = hog(newImage, orientations=9, pixels_per_cell=(14, 14), cells_per_block=(1, 1), visualise=False)\n",
    "                    # Perform classification\n",
    "                    hog_ft = pp.transform(np.array([hog_ft], 'float64'))\n",
    "                    ans = clf.predict(hog_ft)\n",
    "                    # Make the rectangular region around the digit and texting classified digit\n",
    "                    cv2.rectangle(img, (x, y), (x + w, y + h), (255, 0, 0), 4)\n",
    "                    cv2.putText(img, str(int(ans[0])), (x, y),cv2.FONT_HERSHEY_DUPLEX, 2, (0, 255, 255), 3)\n",
    "               \n",
    "        #Showing frame and threshold\n",
    "        cv2.imshow(\"Frame\", img)\n",
    "        cv2.imshow(\"Contours\", thresh)\n",
    "        k = cv2.waitKey(10)\n",
    "        if k == 30:\n",
    "            break\n",
    "            \n",
    "def get_img_contour_thresh(img):\n",
    "    \n",
    "    # Change color-space from BGR -> Gray\n",
    "    gray = cv2.cvtColor(img, cv2.COLOR_BGR2GRAY)\n",
    "    \n",
    "    # Apply Gaussian Blur and Threshold\n",
    "    blur = cv2.GaussianBlur(gray, (5, 5), 0)\n",
    "    ret, thresh = cv2.threshold(blur, 70, 255, cv2.THRESH_BINARY_INV + cv2.THRESH_OTSU)\n",
    "    \n",
    "    # Find contours\n",
    "    _,contours, hierarchy = cv2.findContours(thresh, cv2.RETR_TREE, cv2.CHAIN_APPROX_SIMPLE)\n",
    "    \n",
    "    return img, contours, thresh\n",
    "\n",
    "\n"
   ]
  },
  {
   "cell_type": "code",
   "execution_count": null,
   "metadata": {},
   "outputs": [],
   "source": [
    "main()"
   ]
  },
  {
   "cell_type": "code",
   "execution_count": null,
   "metadata": {},
   "outputs": [],
   "source": []
  }
 ],
 "metadata": {
  "kernelspec": {
   "display_name": "Python 3",
   "language": "python",
   "name": "python3"
  },
  "language_info": {
   "codemirror_mode": {
    "name": "ipython",
    "version": 3
   },
   "file_extension": ".py",
   "mimetype": "text/x-python",
   "name": "python",
   "nbconvert_exporter": "python",
   "pygments_lexer": "ipython3",
   "version": "3.5.5"
  }
 },
 "nbformat": 4,
 "nbformat_minor": 2
}
